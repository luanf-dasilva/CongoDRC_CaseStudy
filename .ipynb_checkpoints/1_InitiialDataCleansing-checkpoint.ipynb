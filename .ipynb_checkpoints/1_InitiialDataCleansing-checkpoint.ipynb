{
 "cells": [
  {
   "cell_type": "markdown",
   "metadata": {},
   "source": [
    "# 1. Data processes"
   ]
  },
  {
   "cell_type": "markdown",
   "metadata": {},
   "source": [
    "## 1.1: Getting data"
   ]
  },
  {
   "cell_type": "raw",
   "metadata": {},
   "source": [
    "Humdata.org provides a detailed dataset that spans the epidemic we are trying to understand. After browsing the internet, this dataset seems to be the most expansive and reliable. No webscraping was needed but an additional step that can be taken to ensure reliable data is to scrape the World Health Organization's Website for the data instead.\n",
    "\n",
    "This approach was not used, trusting Humdata for that information for simplicity and time. "
   ]
  },
  {
   "cell_type": "markdown",
   "metadata": {},
   "source": [
    " ## 1.2: Imports and initial data loading"
   ]
  },
  {
   "cell_type": "code",
   "execution_count": 1,
   "metadata": {},
   "outputs": [],
   "source": [
    "import pandas as pd\n",
    "import matplotlib.pyplot as plt\n",
    "import numpy as np"
   ]
  },
  {
   "cell_type": "code",
   "execution_count": 2,
   "metadata": {},
   "outputs": [],
   "source": [
    "#row 1 contains duplicate header, skip it\n",
    "dfTotal = pd.read_csv('datasets\\Total_DRC_Ebola OutbreakNorth KivuIturiÉquateur.csv',skiprows=[1])"
   ]
  },
  {
   "cell_type": "code",
   "execution_count": 3,
   "metadata": {
    "scrolled": false
   },
   "outputs": [
    {
     "data": {
      "text/html": [
       "<div>\n",
       "<style scoped>\n",
       "    .dataframe tbody tr th:only-of-type {\n",
       "        vertical-align: middle;\n",
       "    }\n",
       "\n",
       "    .dataframe tbody tr th {\n",
       "        vertical-align: top;\n",
       "    }\n",
       "\n",
       "    .dataframe thead th {\n",
       "        text-align: right;\n",
       "    }\n",
       "</style>\n",
       "<table border=\"1\" class=\"dataframe\">\n",
       "  <thead>\n",
       "    <tr style=\"text-align: right;\">\n",
       "      <th></th>\n",
       "      <th>publication_date</th>\n",
       "      <th>report_date</th>\n",
       "      <th>country</th>\n",
       "      <th>confirmed_cases</th>\n",
       "      <th>probable_cases</th>\n",
       "      <th>total_cases</th>\n",
       "      <th>confirmed_deaths</th>\n",
       "      <th>total_deaths</th>\n",
       "      <th>total_suspected_cases</th>\n",
       "      <th>new_deaths</th>\n",
       "      <th>...</th>\n",
       "      <th>total_cured</th>\n",
       "      <th>new_suspected_cases</th>\n",
       "      <th>old_suspected_cases</th>\n",
       "      <th>confirmed_cases_change</th>\n",
       "      <th>probable_cases_change</th>\n",
       "      <th>total_cases_change</th>\n",
       "      <th>confirmed_deaths_change</th>\n",
       "      <th>total_deaths_change</th>\n",
       "      <th>total_suspected_cases_change</th>\n",
       "      <th>source</th>\n",
       "    </tr>\n",
       "  </thead>\n",
       "  <tbody>\n",
       "    <tr>\n",
       "      <th>580</th>\n",
       "      <td>2018-08-14</td>\n",
       "      <td>2018-08-13</td>\n",
       "      <td>COD</td>\n",
       "      <td>39</td>\n",
       "      <td>27</td>\n",
       "      <td>66</td>\n",
       "      <td>15</td>\n",
       "      <td>42.0</td>\n",
       "      <td>36.0</td>\n",
       "      <td>1.0</td>\n",
       "      <td>...</td>\n",
       "      <td>NaN</td>\n",
       "      <td>8.0</td>\n",
       "      <td>28.0</td>\n",
       "      <td>9.0</td>\n",
       "      <td>0.0</td>\n",
       "      <td>9.0</td>\n",
       "      <td>1.0</td>\n",
       "      <td>1.0</td>\n",
       "      <td>-22.0</td>\n",
       "      <td>https://mailchi.mp/37b7545e3544/ebola_kivu_14aout</td>\n",
       "    </tr>\n",
       "    <tr>\n",
       "      <th>581</th>\n",
       "      <td>2018-08-13</td>\n",
       "      <td>2018-08-12</td>\n",
       "      <td>COD</td>\n",
       "      <td>30</td>\n",
       "      <td>27</td>\n",
       "      <td>57</td>\n",
       "      <td>14</td>\n",
       "      <td>41.0</td>\n",
       "      <td>58.0</td>\n",
       "      <td>2.0</td>\n",
       "      <td>...</td>\n",
       "      <td>NaN</td>\n",
       "      <td>12.0</td>\n",
       "      <td>46.0</td>\n",
       "      <td>5.0</td>\n",
       "      <td>0.0</td>\n",
       "      <td>5.0</td>\n",
       "      <td>2.0</td>\n",
       "      <td>2.0</td>\n",
       "      <td>10.0</td>\n",
       "      <td>https://mailchi.mp/de936e52fb17/ebola_kivu_13aout</td>\n",
       "    </tr>\n",
       "    <tr>\n",
       "      <th>582</th>\n",
       "      <td>2018-08-12</td>\n",
       "      <td>2018-08-11</td>\n",
       "      <td>COD</td>\n",
       "      <td>25</td>\n",
       "      <td>27</td>\n",
       "      <td>52</td>\n",
       "      <td>12</td>\n",
       "      <td>39.0</td>\n",
       "      <td>48.0</td>\n",
       "      <td>1.0</td>\n",
       "      <td>...</td>\n",
       "      <td>NaN</td>\n",
       "      <td>11.0</td>\n",
       "      <td>37.0</td>\n",
       "      <td>3.0</td>\n",
       "      <td>0.0</td>\n",
       "      <td>3.0</td>\n",
       "      <td>1.0</td>\n",
       "      <td>1.0</td>\n",
       "      <td>-5.0</td>\n",
       "      <td>https://mailchi.mp/5740eb659e90/ebola_kivu_12aout</td>\n",
       "    </tr>\n",
       "    <tr>\n",
       "      <th>583</th>\n",
       "      <td>2018-08-11</td>\n",
       "      <td>2018-08-10</td>\n",
       "      <td>COD</td>\n",
       "      <td>22</td>\n",
       "      <td>27</td>\n",
       "      <td>49</td>\n",
       "      <td>11</td>\n",
       "      <td>38.0</td>\n",
       "      <td>53.0</td>\n",
       "      <td>0.0</td>\n",
       "      <td>...</td>\n",
       "      <td>NaN</td>\n",
       "      <td>8.0</td>\n",
       "      <td>45.0</td>\n",
       "      <td>1.0</td>\n",
       "      <td>0.0</td>\n",
       "      <td>1.0</td>\n",
       "      <td>0.0</td>\n",
       "      <td>0.0</td>\n",
       "      <td>2.0</td>\n",
       "      <td>https://mailchi.mp/17136ac871cd/ebola_kivu_11aout</td>\n",
       "    </tr>\n",
       "    <tr>\n",
       "      <th>584</th>\n",
       "      <td>2018-08-10</td>\n",
       "      <td>2018-08-09</td>\n",
       "      <td>COD</td>\n",
       "      <td>21</td>\n",
       "      <td>27</td>\n",
       "      <td>48</td>\n",
       "      <td>11</td>\n",
       "      <td>38.0</td>\n",
       "      <td>51.0</td>\n",
       "      <td>2.0</td>\n",
       "      <td>...</td>\n",
       "      <td>NaN</td>\n",
       "      <td>8.0</td>\n",
       "      <td>43.0</td>\n",
       "      <td>4.0</td>\n",
       "      <td>0.0</td>\n",
       "      <td>4.0</td>\n",
       "      <td>1.0</td>\n",
       "      <td>1.0</td>\n",
       "      <td>-3.0</td>\n",
       "      <td>https://mailchi.mp/68ac0a236b26/ebola_kivu_10aout</td>\n",
       "    </tr>\n",
       "    <tr>\n",
       "      <th>585</th>\n",
       "      <td>2018-08-09</td>\n",
       "      <td>2018-08-08</td>\n",
       "      <td>COD</td>\n",
       "      <td>17</td>\n",
       "      <td>27</td>\n",
       "      <td>44</td>\n",
       "      <td>10</td>\n",
       "      <td>37.0</td>\n",
       "      <td>54.0</td>\n",
       "      <td>1.0</td>\n",
       "      <td>...</td>\n",
       "      <td>NaN</td>\n",
       "      <td>12.0</td>\n",
       "      <td>42.0</td>\n",
       "      <td>0.0</td>\n",
       "      <td>0.0</td>\n",
       "      <td>0.0</td>\n",
       "      <td>1.0</td>\n",
       "      <td>1.0</td>\n",
       "      <td>7.0</td>\n",
       "      <td>https://mailchi.mp/4cc2513a9f7d/ebola_kivu_9aout</td>\n",
       "    </tr>\n",
       "    <tr>\n",
       "      <th>586</th>\n",
       "      <td>2018-08-08</td>\n",
       "      <td>2018-08-07</td>\n",
       "      <td>COD</td>\n",
       "      <td>17</td>\n",
       "      <td>27</td>\n",
       "      <td>44</td>\n",
       "      <td>9</td>\n",
       "      <td>36.0</td>\n",
       "      <td>47.0</td>\n",
       "      <td>0.0</td>\n",
       "      <td>...</td>\n",
       "      <td>NaN</td>\n",
       "      <td>10.0</td>\n",
       "      <td>37.0</td>\n",
       "      <td>1.0</td>\n",
       "      <td>0.0</td>\n",
       "      <td>1.0</td>\n",
       "      <td>0.0</td>\n",
       "      <td>0.0</td>\n",
       "      <td>1.0</td>\n",
       "      <td>https://mailchi.mp/80a23d454958/ebola_kivu_8aout</td>\n",
       "    </tr>\n",
       "    <tr>\n",
       "      <th>587</th>\n",
       "      <td>2018-08-07</td>\n",
       "      <td>2018-08-06</td>\n",
       "      <td>COD</td>\n",
       "      <td>16</td>\n",
       "      <td>27</td>\n",
       "      <td>43</td>\n",
       "      <td>9</td>\n",
       "      <td>36.0</td>\n",
       "      <td>46.0</td>\n",
       "      <td>2.0</td>\n",
       "      <td>...</td>\n",
       "      <td>NaN</td>\n",
       "      <td>17.0</td>\n",
       "      <td>29.0</td>\n",
       "      <td>0.0</td>\n",
       "      <td>0.0</td>\n",
       "      <td>0.0</td>\n",
       "      <td>2.0</td>\n",
       "      <td>2.0</td>\n",
       "      <td>15.0</td>\n",
       "      <td>https://mailchi.mp/526091c2d161/ebola_kivu_7aout</td>\n",
       "    </tr>\n",
       "    <tr>\n",
       "      <th>588</th>\n",
       "      <td>2018-08-06</td>\n",
       "      <td>2018-08-05</td>\n",
       "      <td>COD</td>\n",
       "      <td>16</td>\n",
       "      <td>27</td>\n",
       "      <td>43</td>\n",
       "      <td>7</td>\n",
       "      <td>34.0</td>\n",
       "      <td>31.0</td>\n",
       "      <td>4.0</td>\n",
       "      <td>...</td>\n",
       "      <td>NaN</td>\n",
       "      <td>21.0</td>\n",
       "      <td>10.0</td>\n",
       "      <td>NaN</td>\n",
       "      <td>NaN</td>\n",
       "      <td>NaN</td>\n",
       "      <td>NaN</td>\n",
       "      <td>NaN</td>\n",
       "      <td>NaN</td>\n",
       "      <td>https://mailchi.mp/70213f4262fb/ebola_kivu_6aout</td>\n",
       "    </tr>\n",
       "    <tr>\n",
       "      <th>589</th>\n",
       "      <td>2018-08-04</td>\n",
       "      <td>2018-08-03</td>\n",
       "      <td>COD</td>\n",
       "      <td>13</td>\n",
       "      <td>30</td>\n",
       "      <td>43</td>\n",
       "      <td>3</td>\n",
       "      <td>33.0</td>\n",
       "      <td>33.0</td>\n",
       "      <td>NaN</td>\n",
       "      <td>...</td>\n",
       "      <td>NaN</td>\n",
       "      <td>NaN</td>\n",
       "      <td>NaN</td>\n",
       "      <td>NaN</td>\n",
       "      <td>NaN</td>\n",
       "      <td>NaN</td>\n",
       "      <td>NaN</td>\n",
       "      <td>NaN</td>\n",
       "      <td>NaN</td>\n",
       "      <td>https://mailchi.mp/8bfa0c09fe7b/ebola_kivu_4aout</td>\n",
       "    </tr>\n",
       "  </tbody>\n",
       "</table>\n",
       "<p>10 rows × 21 columns</p>\n",
       "</div>"
      ],
      "text/plain": [
       "    publication_date report_date country  confirmed_cases  probable_cases  \\\n",
       "580       2018-08-14  2018-08-13     COD               39              27   \n",
       "581       2018-08-13  2018-08-12     COD               30              27   \n",
       "582       2018-08-12  2018-08-11     COD               25              27   \n",
       "583       2018-08-11  2018-08-10     COD               22              27   \n",
       "584       2018-08-10  2018-08-09     COD               21              27   \n",
       "585       2018-08-09  2018-08-08     COD               17              27   \n",
       "586       2018-08-08  2018-08-07     COD               17              27   \n",
       "587       2018-08-07  2018-08-06     COD               16              27   \n",
       "588       2018-08-06  2018-08-05     COD               16              27   \n",
       "589       2018-08-04  2018-08-03     COD               13              30   \n",
       "\n",
       "     total_cases  confirmed_deaths  total_deaths  total_suspected_cases  \\\n",
       "580           66                15          42.0                   36.0   \n",
       "581           57                14          41.0                   58.0   \n",
       "582           52                12          39.0                   48.0   \n",
       "583           49                11          38.0                   53.0   \n",
       "584           48                11          38.0                   51.0   \n",
       "585           44                10          37.0                   54.0   \n",
       "586           44                 9          36.0                   47.0   \n",
       "587           43                 9          36.0                   46.0   \n",
       "588           43                 7          34.0                   31.0   \n",
       "589           43                 3          33.0                   33.0   \n",
       "\n",
       "     new_deaths  ...  total_cured  new_suspected_cases  old_suspected_cases  \\\n",
       "580         1.0  ...          NaN                  8.0                 28.0   \n",
       "581         2.0  ...          NaN                 12.0                 46.0   \n",
       "582         1.0  ...          NaN                 11.0                 37.0   \n",
       "583         0.0  ...          NaN                  8.0                 45.0   \n",
       "584         2.0  ...          NaN                  8.0                 43.0   \n",
       "585         1.0  ...          NaN                 12.0                 42.0   \n",
       "586         0.0  ...          NaN                 10.0                 37.0   \n",
       "587         2.0  ...          NaN                 17.0                 29.0   \n",
       "588         4.0  ...          NaN                 21.0                 10.0   \n",
       "589         NaN  ...          NaN                  NaN                  NaN   \n",
       "\n",
       "     confirmed_cases_change  probable_cases_change  total_cases_change  \\\n",
       "580                     9.0                    0.0                 9.0   \n",
       "581                     5.0                    0.0                 5.0   \n",
       "582                     3.0                    0.0                 3.0   \n",
       "583                     1.0                    0.0                 1.0   \n",
       "584                     4.0                    0.0                 4.0   \n",
       "585                     0.0                    0.0                 0.0   \n",
       "586                     1.0                    0.0                 1.0   \n",
       "587                     0.0                    0.0                 0.0   \n",
       "588                     NaN                    NaN                 NaN   \n",
       "589                     NaN                    NaN                 NaN   \n",
       "\n",
       "     confirmed_deaths_change  total_deaths_change  \\\n",
       "580                      1.0                  1.0   \n",
       "581                      2.0                  2.0   \n",
       "582                      1.0                  1.0   \n",
       "583                      0.0                  0.0   \n",
       "584                      1.0                  1.0   \n",
       "585                      1.0                  1.0   \n",
       "586                      0.0                  0.0   \n",
       "587                      2.0                  2.0   \n",
       "588                      NaN                  NaN   \n",
       "589                      NaN                  NaN   \n",
       "\n",
       "     total_suspected_cases_change  \\\n",
       "580                         -22.0   \n",
       "581                          10.0   \n",
       "582                          -5.0   \n",
       "583                           2.0   \n",
       "584                          -3.0   \n",
       "585                           7.0   \n",
       "586                           1.0   \n",
       "587                          15.0   \n",
       "588                           NaN   \n",
       "589                           NaN   \n",
       "\n",
       "                                                source  \n",
       "580  https://mailchi.mp/37b7545e3544/ebola_kivu_14aout  \n",
       "581  https://mailchi.mp/de936e52fb17/ebola_kivu_13aout  \n",
       "582  https://mailchi.mp/5740eb659e90/ebola_kivu_12aout  \n",
       "583  https://mailchi.mp/17136ac871cd/ebola_kivu_11aout  \n",
       "584  https://mailchi.mp/68ac0a236b26/ebola_kivu_10aout  \n",
       "585   https://mailchi.mp/4cc2513a9f7d/ebola_kivu_9aout  \n",
       "586   https://mailchi.mp/80a23d454958/ebola_kivu_8aout  \n",
       "587   https://mailchi.mp/526091c2d161/ebola_kivu_7aout  \n",
       "588   https://mailchi.mp/70213f4262fb/ebola_kivu_6aout  \n",
       "589   https://mailchi.mp/8bfa0c09fe7b/ebola_kivu_4aout  \n",
       "\n",
       "[10 rows x 21 columns]"
      ]
     },
     "execution_count": 3,
     "metadata": {},
     "output_type": "execute_result"
    }
   ],
   "source": [
    "dfTotal.tail(10)"
   ]
  },
  {
   "cell_type": "markdown",
   "metadata": {},
   "source": [
    "We see through the initial loading of the dataset similar and unnecessary columns. For all intents and purposes, we do not need columns like probable_cases, total_cases_change, total_deaths_change etc, and their counter parts. For the changes, we can calculate that ourselves if needed (it's not). This additional complexity means it is simpler to drop these and use only needed columns that are more well documented"
   ]
  },
  {
   "cell_type": "markdown",
   "metadata": {},
   "source": [
    "## 1.3: Preliminary filtering and check for nulls"
   ]
  },
  {
   "cell_type": "markdown",
   "metadata": {},
   "source": [
    "First let's remove any obviously unnecessary columns. We keep a few columns with nulls to see if they can provide any value."
   ]
  },
  {
   "cell_type": "code",
   "execution_count": 4,
   "metadata": {},
   "outputs": [],
   "source": [
    "dfTotal=dfTotal.drop('source', axis=1)\n",
    "dfTotal=dfTotal.drop('new_deaths', axis=1)\n",
    "dfTotal=dfTotal.drop('confirmed_cases_change', axis=1)\n",
    "dfTotal=dfTotal.drop('probable_cases', axis=1)\n",
    "dfTotal=dfTotal.drop('total_suspected_cases_change', axis=1)\n",
    "dfTotal=dfTotal.drop('total_deaths_change', axis=1)\n",
    "dfTotal=dfTotal.drop('new_cured', axis=1)\n",
    "dfTotal=dfTotal.drop('probable_cases_change', axis=1)\n",
    "dfTotal=dfTotal.drop('total_cases_change', axis=1)\n",
    "dfTotal=dfTotal.drop('confirmed_deaths_change', axis=1)"
   ]
  },
  {
   "cell_type": "code",
   "execution_count": 5,
   "metadata": {
    "scrolled": true
   },
   "outputs": [
    {
     "data": {
      "text/plain": [
       "publication_date         False\n",
       "report_date              False\n",
       "country                  False\n",
       "confirmed_cases          False\n",
       "total_cases              False\n",
       "confirmed_deaths         False\n",
       "total_deaths              True\n",
       "total_suspected_cases     True\n",
       "total_cured               True\n",
       "new_suspected_cases       True\n",
       "old_suspected_cases       True\n",
       "dtype: bool"
      ]
     },
     "execution_count": 5,
     "metadata": {},
     "output_type": "execute_result"
    }
   ],
   "source": [
    "pd.isnull(dfTotal).any()"
   ]
  },
  {
   "cell_type": "markdown",
   "metadata": {},
   "source": [
    "Nulls may be problematic for us if data actually was supposed to be there. Our analysis might be skewed. Let's explore further"
   ]
  },
  {
   "cell_type": "code",
   "execution_count": 6,
   "metadata": {},
   "outputs": [
    {
     "data": {
      "text/plain": [
       "1"
      ]
     },
     "execution_count": 6,
     "metadata": {},
     "output_type": "execute_result"
    }
   ],
   "source": [
    "dfTotal['total_deaths'].isna().sum()"
   ]
  },
  {
   "cell_type": "code",
   "execution_count": 7,
   "metadata": {},
   "outputs": [
    {
     "data": {
      "text/plain": [
       "67"
      ]
     },
     "execution_count": 7,
     "metadata": {},
     "output_type": "execute_result"
    }
   ],
   "source": [
    "dfTotal['total_suspected_cases'].isna().sum()"
   ]
  },
  {
   "cell_type": "code",
   "execution_count": 8,
   "metadata": {},
   "outputs": [
    {
     "data": {
      "text/plain": [
       "501"
      ]
     },
     "execution_count": 8,
     "metadata": {},
     "output_type": "execute_result"
    }
   ],
   "source": [
    "dfTotal['new_suspected_cases'].isna().sum()"
   ]
  },
  {
   "cell_type": "code",
   "execution_count": 9,
   "metadata": {},
   "outputs": [
    {
     "data": {
      "text/plain": [
       "501"
      ]
     },
     "execution_count": 9,
     "metadata": {},
     "output_type": "execute_result"
    }
   ],
   "source": [
    "dfTotal['old_suspected_cases'].isna().sum()"
   ]
  },
  {
   "cell_type": "code",
   "execution_count": 10,
   "metadata": {},
   "outputs": [
    {
     "data": {
      "text/plain": [
       "525"
      ]
     },
     "execution_count": 10,
     "metadata": {},
     "output_type": "execute_result"
    }
   ],
   "source": [
    "dfTotal['total_cured'].isna().sum()"
   ]
  },
  {
   "cell_type": "markdown",
   "metadata": {},
   "source": [
    "Exploring the dataset further, it seems reasonable to drop  new and old suspected, as well as cured, as their null span the entire set. total deaths, which we'll keep even though it seems to be confirmed_deaths + 33."
   ]
  },
  {
   "cell_type": "code",
   "execution_count": 11,
   "metadata": {},
   "outputs": [],
   "source": [
    "dfTotal=dfTotal.drop('total_cured', axis=1)\n",
    "dfTotal=dfTotal.drop('total_suspected_cases', axis=1)\n",
    "dfTotal=dfTotal.drop('new_suspected_cases', axis=1)\n",
    "dfTotal=dfTotal.drop('old_suspected_cases', axis=1)"
   ]
  },
  {
   "cell_type": "code",
   "execution_count": 12,
   "metadata": {
    "scrolled": false
   },
   "outputs": [
    {
     "data": {
      "text/plain": [
       "publication_date    False\n",
       "report_date         False\n",
       "country             False\n",
       "confirmed_cases     False\n",
       "total_cases         False\n",
       "confirmed_deaths    False\n",
       "total_deaths         True\n",
       "dtype: bool"
      ]
     },
     "execution_count": 12,
     "metadata": {},
     "output_type": "execute_result"
    }
   ],
   "source": [
    "pd.isnull(dfTotal).any()"
   ]
  },
  {
   "cell_type": "markdown",
   "metadata": {},
   "source": [
    "    Fix total_deaths null:"
   ]
  },
  {
   "cell_type": "code",
   "execution_count": 13,
   "metadata": {
    "scrolled": true
   },
   "outputs": [
    {
     "data": {
      "text/html": [
       "<div>\n",
       "<style scoped>\n",
       "    .dataframe tbody tr th:only-of-type {\n",
       "        vertical-align: middle;\n",
       "    }\n",
       "\n",
       "    .dataframe tbody tr th {\n",
       "        vertical-align: top;\n",
       "    }\n",
       "\n",
       "    .dataframe thead th {\n",
       "        text-align: right;\n",
       "    }\n",
       "</style>\n",
       "<table border=\"1\" class=\"dataframe\">\n",
       "  <thead>\n",
       "    <tr style=\"text-align: right;\">\n",
       "      <th></th>\n",
       "      <th>publication_date</th>\n",
       "      <th>report_date</th>\n",
       "      <th>country</th>\n",
       "      <th>confirmed_cases</th>\n",
       "      <th>total_cases</th>\n",
       "      <th>confirmed_deaths</th>\n",
       "      <th>total_deaths</th>\n",
       "    </tr>\n",
       "  </thead>\n",
       "  <tbody>\n",
       "    <tr>\n",
       "      <th>485</th>\n",
       "      <td>2018-11-17</td>\n",
       "      <td>2018-11-16</td>\n",
       "      <td>COD</td>\n",
       "      <td>311</td>\n",
       "      <td>358</td>\n",
       "      <td>166</td>\n",
       "      <td>213.0</td>\n",
       "    </tr>\n",
       "    <tr>\n",
       "      <th>486</th>\n",
       "      <td>2018-11-16</td>\n",
       "      <td>2018-11-15</td>\n",
       "      <td>COD</td>\n",
       "      <td>305</td>\n",
       "      <td>352</td>\n",
       "      <td>163</td>\n",
       "      <td>210.0</td>\n",
       "    </tr>\n",
       "    <tr>\n",
       "      <th>487</th>\n",
       "      <td>2018-11-15</td>\n",
       "      <td>2018-11-14</td>\n",
       "      <td>COD</td>\n",
       "      <td>304</td>\n",
       "      <td>344</td>\n",
       "      <td>162</td>\n",
       "      <td>202.0</td>\n",
       "    </tr>\n",
       "    <tr>\n",
       "      <th>488</th>\n",
       "      <td>2018-11-14</td>\n",
       "      <td>2018-11-13</td>\n",
       "      <td>COD</td>\n",
       "      <td>303</td>\n",
       "      <td>341</td>\n",
       "      <td>177</td>\n",
       "      <td>215.0</td>\n",
       "    </tr>\n",
       "    <tr>\n",
       "      <th>489</th>\n",
       "      <td>2018-11-13</td>\n",
       "      <td>2018-11-12</td>\n",
       "      <td>COD</td>\n",
       "      <td>301</td>\n",
       "      <td>339</td>\n",
       "      <td>171</td>\n",
       "      <td>NaN</td>\n",
       "    </tr>\n",
       "    <tr>\n",
       "      <th>490</th>\n",
       "      <td>2018-11-12</td>\n",
       "      <td>2018-11-11</td>\n",
       "      <td>COD</td>\n",
       "      <td>295</td>\n",
       "      <td>333</td>\n",
       "      <td>171</td>\n",
       "      <td>209.0</td>\n",
       "    </tr>\n",
       "    <tr>\n",
       "      <th>491</th>\n",
       "      <td>2018-11-11</td>\n",
       "      <td>2018-11-10</td>\n",
       "      <td>COD</td>\n",
       "      <td>294</td>\n",
       "      <td>329</td>\n",
       "      <td>170</td>\n",
       "      <td>205.0</td>\n",
       "    </tr>\n",
       "    <tr>\n",
       "      <th>492</th>\n",
       "      <td>2018-11-10</td>\n",
       "      <td>2018-11-09</td>\n",
       "      <td>COD</td>\n",
       "      <td>291</td>\n",
       "      <td>326</td>\n",
       "      <td>166</td>\n",
       "      <td>201.0</td>\n",
       "    </tr>\n",
       "    <tr>\n",
       "      <th>493</th>\n",
       "      <td>2018-11-09</td>\n",
       "      <td>2018-11-08</td>\n",
       "      <td>COD</td>\n",
       "      <td>284</td>\n",
       "      <td>319</td>\n",
       "      <td>163</td>\n",
       "      <td>198.0</td>\n",
       "    </tr>\n",
       "    <tr>\n",
       "      <th>494</th>\n",
       "      <td>2018-11-08</td>\n",
       "      <td>2018-11-07</td>\n",
       "      <td>COD</td>\n",
       "      <td>277</td>\n",
       "      <td>312</td>\n",
       "      <td>156</td>\n",
       "      <td>191.0</td>\n",
       "    </tr>\n",
       "  </tbody>\n",
       "</table>\n",
       "</div>"
      ],
      "text/plain": [
       "    publication_date report_date country  confirmed_cases  total_cases  \\\n",
       "485       2018-11-17  2018-11-16     COD              311          358   \n",
       "486       2018-11-16  2018-11-15     COD              305          352   \n",
       "487       2018-11-15  2018-11-14     COD              304          344   \n",
       "488       2018-11-14  2018-11-13     COD              303          341   \n",
       "489       2018-11-13  2018-11-12     COD              301          339   \n",
       "490       2018-11-12  2018-11-11     COD              295          333   \n",
       "491       2018-11-11  2018-11-10     COD              294          329   \n",
       "492       2018-11-10  2018-11-09     COD              291          326   \n",
       "493       2018-11-09  2018-11-08     COD              284          319   \n",
       "494       2018-11-08  2018-11-07     COD              277          312   \n",
       "\n",
       "     confirmed_deaths  total_deaths  \n",
       "485               166         213.0  \n",
       "486               163         210.0  \n",
       "487               162         202.0  \n",
       "488               177         215.0  \n",
       "489               171           NaN  \n",
       "490               171         209.0  \n",
       "491               170         205.0  \n",
       "492               166         201.0  \n",
       "493               163         198.0  \n",
       "494               156         191.0  "
      ]
     },
     "execution_count": 13,
     "metadata": {},
     "output_type": "execute_result"
    }
   ],
   "source": [
    "index=485\n",
    "l=[]\n",
    "while(index<495):\n",
    "    l.append(index)\n",
    "    index+=1\n",
    "dfTotal[dfTotal.index.isin(l)]"
   ]
  },
  {
   "cell_type": "code",
   "execution_count": 14,
   "metadata": {},
   "outputs": [],
   "source": [
    "dfTotal.at[489, 'total_deaths'] = 209.0"
   ]
  },
  {
   "cell_type": "markdown",
   "metadata": {},
   "source": [
    "## 1.3 Turning data into proper datatypes"
   ]
  },
  {
   "cell_type": "code",
   "execution_count": 15,
   "metadata": {},
   "outputs": [
    {
     "ename": "KeyError",
     "evalue": "'confirm_deaths'",
     "output_type": "error",
     "traceback": [
      "\u001b[1;31m---------------------------------------------------------------------------\u001b[0m",
      "\u001b[1;31mKeyError\u001b[0m                                  Traceback (most recent call last)",
      "\u001b[1;32m~\\anaconda3\\lib\\site-packages\\pandas\\core\\indexes\\base.py\u001b[0m in \u001b[0;36mget_loc\u001b[1;34m(self, key, method, tolerance)\u001b[0m\n\u001b[0;32m   2894\u001b[0m             \u001b[1;32mtry\u001b[0m\u001b[1;33m:\u001b[0m\u001b[1;33m\u001b[0m\u001b[1;33m\u001b[0m\u001b[0m\n\u001b[1;32m-> 2895\u001b[1;33m                 \u001b[1;32mreturn\u001b[0m \u001b[0mself\u001b[0m\u001b[1;33m.\u001b[0m\u001b[0m_engine\u001b[0m\u001b[1;33m.\u001b[0m\u001b[0mget_loc\u001b[0m\u001b[1;33m(\u001b[0m\u001b[0mcasted_key\u001b[0m\u001b[1;33m)\u001b[0m\u001b[1;33m\u001b[0m\u001b[1;33m\u001b[0m\u001b[0m\n\u001b[0m\u001b[0;32m   2896\u001b[0m             \u001b[1;32mexcept\u001b[0m \u001b[0mKeyError\u001b[0m \u001b[1;32mas\u001b[0m \u001b[0merr\u001b[0m\u001b[1;33m:\u001b[0m\u001b[1;33m\u001b[0m\u001b[1;33m\u001b[0m\u001b[0m\n",
      "\u001b[1;32mpandas\\_libs\\index.pyx\u001b[0m in \u001b[0;36mpandas._libs.index.IndexEngine.get_loc\u001b[1;34m()\u001b[0m\n",
      "\u001b[1;32mpandas\\_libs\\index.pyx\u001b[0m in \u001b[0;36mpandas._libs.index.IndexEngine.get_loc\u001b[1;34m()\u001b[0m\n",
      "\u001b[1;32mpandas\\_libs\\hashtable_class_helper.pxi\u001b[0m in \u001b[0;36mpandas._libs.hashtable.PyObjectHashTable.get_item\u001b[1;34m()\u001b[0m\n",
      "\u001b[1;32mpandas\\_libs\\hashtable_class_helper.pxi\u001b[0m in \u001b[0;36mpandas._libs.hashtable.PyObjectHashTable.get_item\u001b[1;34m()\u001b[0m\n",
      "\u001b[1;31mKeyError\u001b[0m: 'confirm_deaths'",
      "\nThe above exception was the direct cause of the following exception:\n",
      "\u001b[1;31mKeyError\u001b[0m                                  Traceback (most recent call last)",
      "\u001b[1;32m<ipython-input-15-4e7a4dbc7214>\u001b[0m in \u001b[0;36m<module>\u001b[1;34m\u001b[0m\n\u001b[0;32m      1\u001b[0m \u001b[0mdfTotal\u001b[0m\u001b[1;33m[\u001b[0m\u001b[1;34m'total_cases'\u001b[0m\u001b[1;33m]\u001b[0m\u001b[1;33m=\u001b[0m\u001b[0mpd\u001b[0m\u001b[1;33m.\u001b[0m\u001b[0mto_numeric\u001b[0m\u001b[1;33m(\u001b[0m\u001b[0mdfTotal\u001b[0m\u001b[1;33m[\u001b[0m\u001b[1;34m'total_cases'\u001b[0m\u001b[1;33m]\u001b[0m\u001b[1;33m)\u001b[0m\u001b[1;33m\u001b[0m\u001b[1;33m\u001b[0m\u001b[0m\n\u001b[0;32m      2\u001b[0m \u001b[0mdfTotal\u001b[0m\u001b[1;33m[\u001b[0m\u001b[1;34m'confirmed_cases'\u001b[0m\u001b[1;33m]\u001b[0m\u001b[1;33m=\u001b[0m\u001b[0mpd\u001b[0m\u001b[1;33m.\u001b[0m\u001b[0mto_numeric\u001b[0m\u001b[1;33m(\u001b[0m\u001b[0mdfTotal\u001b[0m\u001b[1;33m[\u001b[0m\u001b[1;34m'confirmed_cases'\u001b[0m\u001b[1;33m]\u001b[0m\u001b[1;33m)\u001b[0m\u001b[1;33m\u001b[0m\u001b[1;33m\u001b[0m\u001b[0m\n\u001b[1;32m----> 3\u001b[1;33m \u001b[0mdfTotal\u001b[0m\u001b[1;33m[\u001b[0m\u001b[1;34m'confirmed_deaths'\u001b[0m\u001b[1;33m]\u001b[0m\u001b[1;33m=\u001b[0m\u001b[0mpd\u001b[0m\u001b[1;33m.\u001b[0m\u001b[0mto_numeric\u001b[0m\u001b[1;33m(\u001b[0m\u001b[0mdfTotal\u001b[0m\u001b[1;33m[\u001b[0m\u001b[1;34m'confirm_deaths'\u001b[0m\u001b[1;33m]\u001b[0m\u001b[1;33m)\u001b[0m\u001b[1;33m\u001b[0m\u001b[1;33m\u001b[0m\u001b[0m\n\u001b[0m\u001b[0;32m      4\u001b[0m \u001b[0mdfTotal\u001b[0m\u001b[1;33m[\u001b[0m\u001b[1;34m'total_deaths'\u001b[0m\u001b[1;33m]\u001b[0m\u001b[1;33m=\u001b[0m\u001b[0mpd\u001b[0m\u001b[1;33m.\u001b[0m\u001b[0mto_numeric\u001b[0m\u001b[1;33m(\u001b[0m\u001b[0mdfTotal\u001b[0m\u001b[1;33m[\u001b[0m\u001b[1;34m'total_deaths'\u001b[0m\u001b[1;33m]\u001b[0m\u001b[1;33m)\u001b[0m\u001b[1;33m\u001b[0m\u001b[1;33m\u001b[0m\u001b[0m\n\u001b[0;32m      5\u001b[0m \u001b[1;33m\u001b[0m\u001b[0m\n",
      "\u001b[1;32m~\\anaconda3\\lib\\site-packages\\pandas\\core\\frame.py\u001b[0m in \u001b[0;36m__getitem__\u001b[1;34m(self, key)\u001b[0m\n\u001b[0;32m   2900\u001b[0m             \u001b[1;32mif\u001b[0m \u001b[0mself\u001b[0m\u001b[1;33m.\u001b[0m\u001b[0mcolumns\u001b[0m\u001b[1;33m.\u001b[0m\u001b[0mnlevels\u001b[0m \u001b[1;33m>\u001b[0m \u001b[1;36m1\u001b[0m\u001b[1;33m:\u001b[0m\u001b[1;33m\u001b[0m\u001b[1;33m\u001b[0m\u001b[0m\n\u001b[0;32m   2901\u001b[0m                 \u001b[1;32mreturn\u001b[0m \u001b[0mself\u001b[0m\u001b[1;33m.\u001b[0m\u001b[0m_getitem_multilevel\u001b[0m\u001b[1;33m(\u001b[0m\u001b[0mkey\u001b[0m\u001b[1;33m)\u001b[0m\u001b[1;33m\u001b[0m\u001b[1;33m\u001b[0m\u001b[0m\n\u001b[1;32m-> 2902\u001b[1;33m             \u001b[0mindexer\u001b[0m \u001b[1;33m=\u001b[0m \u001b[0mself\u001b[0m\u001b[1;33m.\u001b[0m\u001b[0mcolumns\u001b[0m\u001b[1;33m.\u001b[0m\u001b[0mget_loc\u001b[0m\u001b[1;33m(\u001b[0m\u001b[0mkey\u001b[0m\u001b[1;33m)\u001b[0m\u001b[1;33m\u001b[0m\u001b[1;33m\u001b[0m\u001b[0m\n\u001b[0m\u001b[0;32m   2903\u001b[0m             \u001b[1;32mif\u001b[0m \u001b[0mis_integer\u001b[0m\u001b[1;33m(\u001b[0m\u001b[0mindexer\u001b[0m\u001b[1;33m)\u001b[0m\u001b[1;33m:\u001b[0m\u001b[1;33m\u001b[0m\u001b[1;33m\u001b[0m\u001b[0m\n\u001b[0;32m   2904\u001b[0m                 \u001b[0mindexer\u001b[0m \u001b[1;33m=\u001b[0m \u001b[1;33m[\u001b[0m\u001b[0mindexer\u001b[0m\u001b[1;33m]\u001b[0m\u001b[1;33m\u001b[0m\u001b[1;33m\u001b[0m\u001b[0m\n",
      "\u001b[1;32m~\\anaconda3\\lib\\site-packages\\pandas\\core\\indexes\\base.py\u001b[0m in \u001b[0;36mget_loc\u001b[1;34m(self, key, method, tolerance)\u001b[0m\n\u001b[0;32m   2895\u001b[0m                 \u001b[1;32mreturn\u001b[0m \u001b[0mself\u001b[0m\u001b[1;33m.\u001b[0m\u001b[0m_engine\u001b[0m\u001b[1;33m.\u001b[0m\u001b[0mget_loc\u001b[0m\u001b[1;33m(\u001b[0m\u001b[0mcasted_key\u001b[0m\u001b[1;33m)\u001b[0m\u001b[1;33m\u001b[0m\u001b[1;33m\u001b[0m\u001b[0m\n\u001b[0;32m   2896\u001b[0m             \u001b[1;32mexcept\u001b[0m \u001b[0mKeyError\u001b[0m \u001b[1;32mas\u001b[0m \u001b[0merr\u001b[0m\u001b[1;33m:\u001b[0m\u001b[1;33m\u001b[0m\u001b[1;33m\u001b[0m\u001b[0m\n\u001b[1;32m-> 2897\u001b[1;33m                 \u001b[1;32mraise\u001b[0m \u001b[0mKeyError\u001b[0m\u001b[1;33m(\u001b[0m\u001b[0mkey\u001b[0m\u001b[1;33m)\u001b[0m \u001b[1;32mfrom\u001b[0m \u001b[0merr\u001b[0m\u001b[1;33m\u001b[0m\u001b[1;33m\u001b[0m\u001b[0m\n\u001b[0m\u001b[0;32m   2898\u001b[0m \u001b[1;33m\u001b[0m\u001b[0m\n\u001b[0;32m   2899\u001b[0m         \u001b[1;32mif\u001b[0m \u001b[0mtolerance\u001b[0m \u001b[1;32mis\u001b[0m \u001b[1;32mnot\u001b[0m \u001b[1;32mNone\u001b[0m\u001b[1;33m:\u001b[0m\u001b[1;33m\u001b[0m\u001b[1;33m\u001b[0m\u001b[0m\n",
      "\u001b[1;31mKeyError\u001b[0m: 'confirm_deaths'"
     ]
    }
   ],
   "source": [
    "dfTotal['total_cases']=pd.to_numeric(dfTotal['total_cases'])\n",
    "dfTotal['confirmed_cases']=pd.to_numeric(dfTotal['confirmed_cases'])\n",
    "dfTotal['confirmed_deaths']=pd.to_numeric(dfTotal['confirm_deaths'])\n",
    "dfTotal['total_deaths']=pd.to_numeric(dfTotal['total_deaths'])\n",
    "\n",
    "\n",
    "dfTotal['report_date']=pd.to_datetime(dfTotal['report_date'])\n",
    "dfTotal['publication_date']=pd.to_datetime(dfTotal['publication_date'])"
   ]
  },
  {
   "cell_type": "markdown",
   "metadata": {},
   "source": [
    "We're done with the initial screening of the data. We save the results in a new csv and do the same process with the health zones csv, exept knowing the columns we need. "
   ]
  },
  {
   "cell_type": "code",
   "execution_count": null,
   "metadata": {},
   "outputs": [],
   "source": [
    "dfTotal.to_csv('datasets\\InitialDataCleansing_Ebola_TOTAL.csv')"
   ]
  },
  {
   "cell_type": "markdown",
   "metadata": {},
   "source": [
    "--------------------------------------------------------------------------------------------------"
   ]
  },
  {
   "cell_type": "markdown",
   "metadata": {},
   "source": [
    "## 1.4 Prepare Health Zones Dataset"
   ]
  },
  {
   "cell_type": "code",
   "execution_count": null,
   "metadata": {},
   "outputs": [],
   "source": [
    "dfHealthZones = pd.read_csv('datasets\\HealthZone_DRC_EbolaOutbreak_North KivuIturiEquateur.csv',skiprows=[1])"
   ]
  },
  {
   "cell_type": "code",
   "execution_count": null,
   "metadata": {},
   "outputs": [],
   "source": [
    "dfHealthZones = dfHealthZones[['publication_date','report_date', 'country','province','health_zone','confirmed_cases','total_cases','confirmed_deaths','total_deaths']]"
   ]
  },
  {
   "cell_type": "code",
   "execution_count": null,
   "metadata": {},
   "outputs": [],
   "source": [
    "dfHealthZones.tail()"
   ]
  },
  {
   "cell_type": "code",
   "execution_count": null,
   "metadata": {
    "scrolled": true
   },
   "outputs": [],
   "source": [
    "pd.isnull(dfHealthZones).any()"
   ]
  },
  {
   "cell_type": "code",
   "execution_count": null,
   "metadata": {
    "scrolled": true
   },
   "outputs": [],
   "source": [
    "dfHealthZones['province'].isna().sum()"
   ]
  },
  {
   "cell_type": "code",
   "execution_count": null,
   "metadata": {
    "scrolled": true
   },
   "outputs": [],
   "source": [
    "dfHealthZones[dfHealthZones['province'].isnull()].health_zone.unique()"
   ]
  },
  {
   "cell_type": "code",
   "execution_count": null,
   "metadata": {},
   "outputs": [],
   "source": [
    "#small number of rows for each, all of them are null too. rename these columns to Other\n",
    "dfHealthZones.loc[dfHealthZones['health_zone'] == 'Wangata']"
   ]
  },
  {
   "cell_type": "code",
   "execution_count": null,
   "metadata": {},
   "outputs": [],
   "source": [
    "dfHealthZones.province = dfHealthZones.province.fillna('Other')"
   ]
  },
  {
   "cell_type": "code",
   "execution_count": null,
   "metadata": {},
   "outputs": [],
   "source": [
    "dfHealthZones['province'].isna().sum()"
   ]
  },
  {
   "cell_type": "code",
   "execution_count": null,
   "metadata": {},
   "outputs": [],
   "source": [
    "dfHealthZones['health_zone'].isna().sum()"
   ]
  },
  {
   "cell_type": "code",
   "execution_count": null,
   "metadata": {},
   "outputs": [],
   "source": [
    "dfHealthZones.health_zone = dfHealthZones.health_zone.fillna('Other')"
   ]
  },
  {
   "cell_type": "code",
   "execution_count": null,
   "metadata": {
    "scrolled": true
   },
   "outputs": [],
   "source": [
    "dfHealthZones['confirmed_cases'].isna().sum()"
   ]
  },
  {
   "cell_type": "code",
   "execution_count": null,
   "metadata": {
    "scrolled": true
   },
   "outputs": [],
   "source": [
    "dfHealthZones[dfHealthZones['confirmed_cases'].isnull()]"
   ]
  },
  {
   "cell_type": "code",
   "execution_count": null,
   "metadata": {},
   "outputs": [],
   "source": [
    "#early in the epidemic, most likely 0. just one row and unlikely to affect overall results too much \n",
    "dfHealthZones.confirmed_cases = dfHealthZones.confirmed_cases.fillna(0)"
   ]
  },
  {
   "cell_type": "code",
   "execution_count": null,
   "metadata": {
    "scrolled": true
   },
   "outputs": [],
   "source": [
    "dfHealthZones['total_cases'].isna().sum()"
   ]
  },
  {
   "cell_type": "code",
   "execution_count": null,
   "metadata": {
    "scrolled": true
   },
   "outputs": [],
   "source": [
    "dfHealthZones[dfHealthZones['total_cases'].isnull()]"
   ]
  },
  {
   "cell_type": "code",
   "execution_count": null,
   "metadata": {},
   "outputs": [],
   "source": [
    "#same case\n",
    "dfHealthZones.total_cases = dfHealthZones.total_cases.fillna(0)"
   ]
  },
  {
   "cell_type": "code",
   "execution_count": null,
   "metadata": {},
   "outputs": [],
   "source": [
    "dfHealthZones['confirmed_deaths'].isna().sum()"
   ]
  },
  {
   "cell_type": "code",
   "execution_count": null,
   "metadata": {},
   "outputs": [],
   "source": [
    "dfHealthZones['total_deaths'].isna().sum()"
   ]
  },
  {
   "cell_type": "code",
   "execution_count": null,
   "metadata": {},
   "outputs": [],
   "source": [
    "#either really late or really early, most likely 0s. Low count compared to enitre ds. \n",
    "dfHealthZones[dfHealthZones['total_deaths'].isnull()].head(5)"
   ]
  },
  {
   "cell_type": "code",
   "execution_count": null,
   "metadata": {},
   "outputs": [],
   "source": [
    "dfHealthZones.total_deaths = dfHealthZones.total_deaths.fillna(0)\n",
    "dfHealthZones.confirmed_deaths = dfHealthZones.confirmed_deaths.fillna(0)"
   ]
  },
  {
   "cell_type": "code",
   "execution_count": null,
   "metadata": {},
   "outputs": [],
   "source": [
    "pd.isnull(dfHealthZones).any()"
   ]
  },
  {
   "cell_type": "code",
   "execution_count": null,
   "metadata": {},
   "outputs": [],
   "source": [
    "dfHealthZones.to_csv('datasets\\InitialDataCleansing_Ebola_HEALTHZONES.csv')"
   ]
  },
  {
   "cell_type": "markdown",
   "metadata": {},
   "source": [
    "-----------------------------------------------------------------------------------------------------"
   ]
  },
  {
   "cell_type": "markdown",
   "metadata": {},
   "source": [
    "# 1.5 Prepare conflicts dataset"
   ]
  },
  {
   "cell_type": "code",
   "execution_count": null,
   "metadata": {},
   "outputs": [],
   "source": [
    "dfConflicts=pd.read_csv('datasets\\conflict_data_cod.csv', skiprows=[1])"
   ]
  },
  {
   "cell_type": "code",
   "execution_count": null,
   "metadata": {
    "scrolled": true
   },
   "outputs": [],
   "source": [
    "dfConflicts.tail(5)"
   ]
  },
  {
   "cell_type": "code",
   "execution_count": null,
   "metadata": {},
   "outputs": [],
   "source": [
    "dfConflicts.columns"
   ]
  },
  {
   "cell_type": "code",
   "execution_count": null,
   "metadata": {},
   "outputs": [],
   "source": [
    "dfConflicts.drop(['data_id', 'event_id_cnty', 'year', 'time_precision','source', 'timestamp', 'iso3'], axis = 1, inplace =True) "
   ]
  },
  {
   "cell_type": "code",
   "execution_count": null,
   "metadata": {
    "scrolled": false
   },
   "outputs": [],
   "source": [
    "pd.isnull(dfConflicts).any()"
   ]
  },
  {
   "cell_type": "markdown",
   "metadata": {},
   "source": [
    "Fatalalities is all we really care about and it has no null. All other columns serve to add additional information to fatalities. Event_date, and location/latitude/longitiude also don't have nulls, which also is beneficial to our analysis."
   ]
  },
  {
   "cell_type": "code",
   "execution_count": null,
   "metadata": {},
   "outputs": [],
   "source": [
    "dfConflicts = dfConflicts.replace(np.nan, 'NA', regex=True)"
   ]
  },
  {
   "cell_type": "code",
   "execution_count": null,
   "metadata": {},
   "outputs": [],
   "source": [
    "dfConflicts['fatalities']=pd.to_numeric(dfConflicts['fatalities'])"
   ]
  },
  {
   "cell_type": "code",
   "execution_count": null,
   "metadata": {},
   "outputs": [],
   "source": [
    "pd.isnull(dfConflicts).any()"
   ]
  },
  {
   "cell_type": "code",
   "execution_count": null,
   "metadata": {},
   "outputs": [],
   "source": [
    "dfConflicts.to_csv('InitialDataCleansing_DRC_Conflicts.csv')"
   ]
  }
 ],
 "metadata": {
  "kernelspec": {
   "display_name": "Python 3",
   "language": "python",
   "name": "python3"
  },
  "language_info": {
   "codemirror_mode": {
    "name": "ipython",
    "version": 3
   },
   "file_extension": ".py",
   "mimetype": "text/x-python",
   "name": "python",
   "nbconvert_exporter": "python",
   "pygments_lexer": "ipython3",
   "version": "3.8.5"
  }
 },
 "nbformat": 4,
 "nbformat_minor": 4
}
